{
 "cells": [
  {
   "cell_type": "code",
   "execution_count": 3,
   "metadata": {
    "collapsed": true
   },
   "outputs": [],
   "source": [
    "import numpy as np\n",
    "import pandas as pd\n",
    "import json"
   ]
  },
  {
   "cell_type": "code",
   "execution_count": 5,
   "metadata": {
    "collapsed": false
   },
   "outputs": [],
   "source": [
    "test = [{\"id\":110806,\"answer\":\"grenadine\",\"question\":\"Any cowboy knows a Roy Rogers requires me, this pomegranate-flavored syrup\",\"value\":600,\"airdate\":\"2012-04-10T12:00:00.000Z\",\"created_at\":\"2014-02-14T02:40:59.492Z\",\"updated_at\":\"2014-02-14T02:40:59.492Z\",\"category_id\":15039,\"game_id\":None,\"invalid_count\":None,\"category\":{\"id\":15039,\"title\":\"put me in\",\"created_at\":\"2014-02-14T02:40:59.032Z\",\"updated_at\":\"2014-02-14T02:40:59.032Z\",\"clues_count\":10}}]"
   ]
  },
  {
   "cell_type": "code",
   "execution_count": 8,
   "metadata": {
    "collapsed": true
   },
   "outputs": [],
   "source": [
    "df = pd.DataFrame(test)"
   ]
  },
  {
   "cell_type": "code",
   "execution_count": 9,
   "metadata": {
    "collapsed": false
   },
   "outputs": [
    {
     "data": {
      "text/html": [
       "<div>\n",
       "<table border=\"1\" class=\"dataframe\">\n",
       "  <thead>\n",
       "    <tr style=\"text-align: right;\">\n",
       "      <th></th>\n",
       "      <th>airdate</th>\n",
       "      <th>answer</th>\n",
       "      <th>category</th>\n",
       "      <th>category_id</th>\n",
       "      <th>created_at</th>\n",
       "      <th>game_id</th>\n",
       "      <th>id</th>\n",
       "      <th>invalid_count</th>\n",
       "      <th>question</th>\n",
       "      <th>updated_at</th>\n",
       "      <th>value</th>\n",
       "    </tr>\n",
       "  </thead>\n",
       "  <tbody>\n",
       "    <tr>\n",
       "      <th>0</th>\n",
       "      <td>2012-04-10T12:00:00.000Z</td>\n",
       "      <td>grenadine</td>\n",
       "      <td>{u'updated_at': u'2014-02-14T02:40:59.032Z', u...</td>\n",
       "      <td>15039</td>\n",
       "      <td>2014-02-14T02:40:59.492Z</td>\n",
       "      <td>None</td>\n",
       "      <td>110806</td>\n",
       "      <td>None</td>\n",
       "      <td>Any cowboy knows a Roy Rogers requires me, thi...</td>\n",
       "      <td>2014-02-14T02:40:59.492Z</td>\n",
       "      <td>600</td>\n",
       "    </tr>\n",
       "  </tbody>\n",
       "</table>\n",
       "</div>"
      ],
      "text/plain": [
       "                    airdate     answer  \\\n",
       "0  2012-04-10T12:00:00.000Z  grenadine   \n",
       "\n",
       "                                            category  category_id  \\\n",
       "0  {u'updated_at': u'2014-02-14T02:40:59.032Z', u...        15039   \n",
       "\n",
       "                 created_at game_id      id invalid_count  \\\n",
       "0  2014-02-14T02:40:59.492Z    None  110806          None   \n",
       "\n",
       "                                            question  \\\n",
       "0  Any cowboy knows a Roy Rogers requires me, thi...   \n",
       "\n",
       "                 updated_at  value  \n",
       "0  2014-02-14T02:40:59.492Z    600  "
      ]
     },
     "execution_count": 9,
     "metadata": {},
     "output_type": "execute_result"
    }
   ],
   "source": [
    "df.head()"
   ]
  },
  {
   "cell_type": "code",
   "execution_count": null,
   "metadata": {
    "collapsed": true
   },
   "outputs": [],
   "source": []
  }
 ],
 "metadata": {
  "anaconda-cloud": {},
  "kernelspec": {
   "display_name": "Python [conda root]",
   "language": "python",
   "name": "conda-root-py"
  },
  "language_info": {
   "codemirror_mode": {
    "name": "ipython",
    "version": 2
   },
   "file_extension": ".py",
   "mimetype": "text/x-python",
   "name": "python",
   "nbconvert_exporter": "python",
   "pygments_lexer": "ipython2",
   "version": "2.7.12"
  }
 },
 "nbformat": 4,
 "nbformat_minor": 1
}
